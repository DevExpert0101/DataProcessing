{
 "cells": [
  {
   "attachments": {},
   "cell_type": "markdown",
   "metadata": {},
   "source": [
    "Create empty .xlsx file"
   ]
  },
  {
   "cell_type": "code",
   "execution_count": 80,
   "metadata": {},
   "outputs": [],
   "source": [
    "import pandas as pd"
   ]
  },
  {
   "cell_type": "code",
   "execution_count": null,
   "metadata": {},
   "outputs": [],
   "source": []
  },
  {
   "attachments": {},
   "cell_type": "markdown",
   "metadata": {},
   "source": [
    "READ 'B2B 8400 662022.xlsx' and copy"
   ]
  },
  {
   "cell_type": "code",
   "execution_count": 90,
   "metadata": {},
   "outputs": [
    {
     "name": "stdout",
     "output_type": "stream",
     "text": [
      "       pallet        carton             imei                iccid  \\\n",
      "0  ELTOMG0149  ELTOMG004706  351629551779045  8901240177129866049   \n",
      "1  ELTOMG0149  ELTOMG004706  351629551781488  8901240177129856685   \n",
      "2  ELTOMG0149  ELTOMG004706  351629551808620  8901240177126175113   \n",
      "3  ELTOMG0149  ELTOMG004706  351629551823322  8901240177129869829   \n",
      "4  ELTOMG0149  ELTOMG004706  351629551845143  8901240177129859960   \n",
      "\n",
      "               model  color           Location      carton.1  \n",
      "0  Elite OctaMax 3GB  Black  Phoenix Worcester  ELTOMG004706  \n",
      "1  Elite OctaMax 3GB  Black  Phoenix Worcester  ELTOMG004706  \n",
      "2  Elite OctaMax 3GB  Black  Phoenix Worcester  ELTOMG004706  \n",
      "3  Elite OctaMax 3GB  Black  Phoenix Worcester  ELTOMG004706  \n",
      "4  Elite OctaMax 3GB  Black  Phoenix Worcester  ELTOMG004706  \n"
     ]
    }
   ],
   "source": [
    "data1 = pd.read_excel('./data/B2B 8400 662022.xlsx','Sheet1')\n",
    "print(data1.head())"
   ]
  },
  {
   "cell_type": "code",
   "execution_count": 91,
   "metadata": {},
   "outputs": [
    {
     "data": {
      "text/html": [
       "<div>\n",
       "<style scoped>\n",
       "    .dataframe tbody tr th:only-of-type {\n",
       "        vertical-align: middle;\n",
       "    }\n",
       "\n",
       "    .dataframe tbody tr th {\n",
       "        vertical-align: top;\n",
       "    }\n",
       "\n",
       "    .dataframe thead th {\n",
       "        text-align: right;\n",
       "    }\n",
       "</style>\n",
       "<table border=\"1\" class=\"dataframe\">\n",
       "  <thead>\n",
       "    <tr style=\"text-align: right;\">\n",
       "      <th></th>\n",
       "      <th>pallet</th>\n",
       "      <th>carton</th>\n",
       "      <th>imei</th>\n",
       "      <th>iccid</th>\n",
       "      <th>model</th>\n",
       "      <th>color</th>\n",
       "      <th>Location</th>\n",
       "    </tr>\n",
       "  </thead>\n",
       "  <tbody>\n",
       "    <tr>\n",
       "      <th>0</th>\n",
       "      <td>ELTOMG0149</td>\n",
       "      <td>ELTOMG004706</td>\n",
       "      <td>351629551779045</td>\n",
       "      <td>8901240177129866049</td>\n",
       "      <td>Elite OctaMax 3GB</td>\n",
       "      <td>Black</td>\n",
       "      <td>Phoenix Worcester</td>\n",
       "    </tr>\n",
       "    <tr>\n",
       "      <th>1</th>\n",
       "      <td>ELTOMG0149</td>\n",
       "      <td>ELTOMG004706</td>\n",
       "      <td>351629551781488</td>\n",
       "      <td>8901240177129856685</td>\n",
       "      <td>Elite OctaMax 3GB</td>\n",
       "      <td>Black</td>\n",
       "      <td>Phoenix Worcester</td>\n",
       "    </tr>\n",
       "    <tr>\n",
       "      <th>2</th>\n",
       "      <td>ELTOMG0149</td>\n",
       "      <td>ELTOMG004706</td>\n",
       "      <td>351629551808620</td>\n",
       "      <td>8901240177126175113</td>\n",
       "      <td>Elite OctaMax 3GB</td>\n",
       "      <td>Black</td>\n",
       "      <td>Phoenix Worcester</td>\n",
       "    </tr>\n",
       "    <tr>\n",
       "      <th>3</th>\n",
       "      <td>ELTOMG0149</td>\n",
       "      <td>ELTOMG004706</td>\n",
       "      <td>351629551823322</td>\n",
       "      <td>8901240177129869829</td>\n",
       "      <td>Elite OctaMax 3GB</td>\n",
       "      <td>Black</td>\n",
       "      <td>Phoenix Worcester</td>\n",
       "    </tr>\n",
       "    <tr>\n",
       "      <th>4</th>\n",
       "      <td>ELTOMG0149</td>\n",
       "      <td>ELTOMG004706</td>\n",
       "      <td>351629551845143</td>\n",
       "      <td>8901240177129859960</td>\n",
       "      <td>Elite OctaMax 3GB</td>\n",
       "      <td>Black</td>\n",
       "      <td>Phoenix Worcester</td>\n",
       "    </tr>\n",
       "    <tr>\n",
       "      <th>...</th>\n",
       "      <td>...</td>\n",
       "      <td>...</td>\n",
       "      <td>...</td>\n",
       "      <td>...</td>\n",
       "      <td>...</td>\n",
       "      <td>...</td>\n",
       "      <td>...</td>\n",
       "    </tr>\n",
       "    <tr>\n",
       "      <th>8395</th>\n",
       "      <td>ELTOMG0758</td>\n",
       "      <td>ELTOMG022438</td>\n",
       "      <td>351629559018149</td>\n",
       "      <td>8901240177121343716</td>\n",
       "      <td>Elite OctaMax 3GB</td>\n",
       "      <td>Dark Gray</td>\n",
       "      <td>Washington DC</td>\n",
       "    </tr>\n",
       "    <tr>\n",
       "      <th>8396</th>\n",
       "      <td>ELTOMG0758</td>\n",
       "      <td>ELTOMG022438</td>\n",
       "      <td>351629559018222</td>\n",
       "      <td>8901240177121345034</td>\n",
       "      <td>Elite OctaMax 3GB</td>\n",
       "      <td>Dark Gray</td>\n",
       "      <td>Washington DC</td>\n",
       "    </tr>\n",
       "    <tr>\n",
       "      <th>8397</th>\n",
       "      <td>ELTOMG0758</td>\n",
       "      <td>ELTOMG022438</td>\n",
       "      <td>351629559018446</td>\n",
       "      <td>8901240177121343690</td>\n",
       "      <td>Elite OctaMax 3GB</td>\n",
       "      <td>Dark Gray</td>\n",
       "      <td>Washington DC</td>\n",
       "    </tr>\n",
       "    <tr>\n",
       "      <th>8398</th>\n",
       "      <td>ELTOMG0758</td>\n",
       "      <td>ELTOMG022438</td>\n",
       "      <td>351629559026720</td>\n",
       "      <td>8901240177121347691</td>\n",
       "      <td>Elite OctaMax 3GB</td>\n",
       "      <td>Dark Gray</td>\n",
       "      <td>Washington DC</td>\n",
       "    </tr>\n",
       "    <tr>\n",
       "      <th>8399</th>\n",
       "      <td>ELTOMG0758</td>\n",
       "      <td>ELTOMG022438</td>\n",
       "      <td>351629559027520</td>\n",
       "      <td>8901240177121347758</td>\n",
       "      <td>Elite OctaMax 3GB</td>\n",
       "      <td>Dark Gray</td>\n",
       "      <td>Washington DC</td>\n",
       "    </tr>\n",
       "  </tbody>\n",
       "</table>\n",
       "<p>8400 rows × 7 columns</p>\n",
       "</div>"
      ],
      "text/plain": [
       "          pallet        carton             imei                iccid  \\\n",
       "0     ELTOMG0149  ELTOMG004706  351629551779045  8901240177129866049   \n",
       "1     ELTOMG0149  ELTOMG004706  351629551781488  8901240177129856685   \n",
       "2     ELTOMG0149  ELTOMG004706  351629551808620  8901240177126175113   \n",
       "3     ELTOMG0149  ELTOMG004706  351629551823322  8901240177129869829   \n",
       "4     ELTOMG0149  ELTOMG004706  351629551845143  8901240177129859960   \n",
       "...          ...           ...              ...                  ...   \n",
       "8395  ELTOMG0758  ELTOMG022438  351629559018149  8901240177121343716   \n",
       "8396  ELTOMG0758  ELTOMG022438  351629559018222  8901240177121345034   \n",
       "8397  ELTOMG0758  ELTOMG022438  351629559018446  8901240177121343690   \n",
       "8398  ELTOMG0758  ELTOMG022438  351629559026720  8901240177121347691   \n",
       "8399  ELTOMG0758  ELTOMG022438  351629559027520  8901240177121347758   \n",
       "\n",
       "                  model      color           Location  \n",
       "0     Elite OctaMax 3GB      Black  Phoenix Worcester  \n",
       "1     Elite OctaMax 3GB      Black  Phoenix Worcester  \n",
       "2     Elite OctaMax 3GB      Black  Phoenix Worcester  \n",
       "3     Elite OctaMax 3GB      Black  Phoenix Worcester  \n",
       "4     Elite OctaMax 3GB      Black  Phoenix Worcester  \n",
       "...                 ...        ...                ...  \n",
       "8395  Elite OctaMax 3GB  Dark Gray      Washington DC  \n",
       "8396  Elite OctaMax 3GB  Dark Gray      Washington DC  \n",
       "8397  Elite OctaMax 3GB  Dark Gray      Washington DC  \n",
       "8398  Elite OctaMax 3GB  Dark Gray      Washington DC  \n",
       "8399  Elite OctaMax 3GB  Dark Gray      Washington DC  \n",
       "\n",
       "[8400 rows x 7 columns]"
      ]
     },
     "execution_count": 91,
     "metadata": {},
     "output_type": "execute_result"
    }
   ],
   "source": [
    "dat = data1.drop('carton.1', axis=1)\n",
    "dat"
   ]
  },
  {
   "cell_type": "code",
   "execution_count": 92,
   "metadata": {},
   "outputs": [],
   "source": [
    "data1 = dat"
   ]
  },
  {
   "cell_type": "code",
   "execution_count": 93,
   "metadata": {},
   "outputs": [
    {
     "data": {
      "text/plain": [
       "['pallet', 'carton', 'imei', 'iccid', 'model', 'color', 'Location']"
      ]
     },
     "execution_count": 93,
     "metadata": {},
     "output_type": "execute_result"
    }
   ],
   "source": [
    "cols = list(data1.columns)\n",
    "cols"
   ]
  },
  {
   "cell_type": "code",
   "execution_count": 94,
   "metadata": {},
   "outputs": [],
   "source": [
    "df = pd.read_excel('./data/default.xlsx', 'Sheet1')"
   ]
  },
  {
   "cell_type": "code",
   "execution_count": 95,
   "metadata": {},
   "outputs": [],
   "source": [
    "df[cols] = data1[cols]"
   ]
  },
  {
   "cell_type": "code",
   "execution_count": 96,
   "metadata": {},
   "outputs": [
    {
     "name": "stdout",
     "output_type": "stream",
     "text": [
      "          pallet        carton             imei                iccid  \\\n",
      "0     ELTOMG0149  ELTOMG004706  351629551779045  8901240177129866049   \n",
      "1     ELTOMG0149  ELTOMG004706  351629551781488  8901240177129856685   \n",
      "2     ELTOMG0149  ELTOMG004706  351629551808620  8901240177126175113   \n",
      "3     ELTOMG0149  ELTOMG004706  351629551823322  8901240177129869829   \n",
      "4     ELTOMG0149  ELTOMG004706  351629551845143  8901240177129859960   \n",
      "...          ...           ...              ...                  ...   \n",
      "8395  ELTOMG0758  ELTOMG022438  351629559018149  8901240177121343716   \n",
      "8396  ELTOMG0758  ELTOMG022438  351629559018222  8901240177121345034   \n",
      "8397  ELTOMG0758  ELTOMG022438  351629559018446  8901240177121343690   \n",
      "8398  ELTOMG0758  ELTOMG022438  351629559026720  8901240177121347691   \n",
      "8399  ELTOMG0758  ELTOMG022438  351629559027520  8901240177121347758   \n",
      "\n",
      "                  model      color           Location  \n",
      "0     Elite OctaMax 3GB      Black  Phoenix Worcester  \n",
      "1     Elite OctaMax 3GB      Black  Phoenix Worcester  \n",
      "2     Elite OctaMax 3GB      Black  Phoenix Worcester  \n",
      "3     Elite OctaMax 3GB      Black  Phoenix Worcester  \n",
      "4     Elite OctaMax 3GB      Black  Phoenix Worcester  \n",
      "...                 ...        ...                ...  \n",
      "8395  Elite OctaMax 3GB  Dark Gray      Washington DC  \n",
      "8396  Elite OctaMax 3GB  Dark Gray      Washington DC  \n",
      "8397  Elite OctaMax 3GB  Dark Gray      Washington DC  \n",
      "8398  Elite OctaMax 3GB  Dark Gray      Washington DC  \n",
      "8399  Elite OctaMax 3GB  Dark Gray      Washington DC  \n",
      "\n",
      "[8400 rows x 7 columns]\n"
     ]
    }
   ],
   "source": [
    "\n",
    "df['imei'] = df['imei'].astype('int64')\n",
    "df['iccid'] = df['iccid'].astype('int64')\n",
    "print(df)"
   ]
  },
  {
   "cell_type": "code",
   "execution_count": 97,
   "metadata": {},
   "outputs": [],
   "source": [
    "df.to_excel('output.xlsx')"
   ]
  },
  {
   "attachments": {},
   "cell_type": "markdown",
   "metadata": {},
   "source": [
    "READ 'B2B 10080 7182022'"
   ]
  },
  {
   "cell_type": "code",
   "execution_count": 98,
   "metadata": {},
   "outputs": [],
   "source": [
    "data2 = pd.read_excel('./data/B2B 10080 7182022.xlsx', 'Sheet1')"
   ]
  },
  {
   "cell_type": "code",
   "execution_count": 99,
   "metadata": {},
   "outputs": [
    {
     "name": "stdout",
     "output_type": "stream",
     "text": [
      "       pallet        carton             imei                iccid  \\\n",
      "0  ELTTPK0004  ELTTPK000109  357958713000956  8901240177165383883   \n",
      "1  ELTTPK0004  ELTTPK000109  357958713001350  8901240177165383701   \n",
      "2  ELTTPK0004  ELTTPK000109  357958713002978  8901240177165383735   \n",
      "3  ELTTPK0004  ELTTPK000109  357958713005336  8901240177165384261   \n",
      "4  ELTTPK0004  ELTTPK000109  357958713006490  8901240177165384121   \n",
      "\n",
      "          model      color CLEC Inventory Location           FedEx  \\\n",
      "0  Elite T8Plus  Dark Grey  108  Phoenix Marketing  7774 2887 0550   \n",
      "1  Elite T8Plus  Dark Grey  108  Phoenix Marketing  7774 2887 0550   \n",
      "2  Elite T8Plus  Dark Grey  108  Phoenix Marketing  7774 2887 0550   \n",
      "3  Elite T8Plus  Dark Grey  108  Phoenix Marketing  7774 2887 0550   \n",
      "4  Elite T8Plus  Dark Grey  108  Phoenix Marketing  7774 2887 0550   \n",
      "\n",
      "  First Location  \n",
      "0  2-MidAtlantic  \n",
      "1  2-MidAtlantic  \n",
      "2  2-MidAtlantic  \n",
      "3  2-MidAtlantic  \n",
      "4  2-MidAtlantic  \n"
     ]
    }
   ],
   "source": [
    "print(data2.head())"
   ]
  },
  {
   "cell_type": "code",
   "execution_count": 100,
   "metadata": {},
   "outputs": [
    {
     "name": "stdout",
     "output_type": "stream",
     "text": [
      "['pallet', 'carton', 'imei', 'iccid', 'model', 'color', 'Location'] ['pallet', 'carton', 'imei', 'iccid', 'model', 'color', 'CLEC', 'Inventory Location', 'FedEx', 'First Location']\n",
      "7 10\n"
     ]
    }
   ],
   "source": [
    "main_cols = list(df.columns)\n",
    "cols = list(data2.columns)\n",
    "\n",
    "print(main_cols, cols)\n",
    "print(len(main_cols), len(cols))"
   ]
  },
  {
   "cell_type": "code",
   "execution_count": 102,
   "metadata": {},
   "outputs": [
    {
     "name": "stdout",
     "output_type": "stream",
     "text": [
      "       pallet        carton             imei                iccid  \\\n",
      "0  ELTOMG0149  ELTOMG004706  351629551779045  8901240177129866049   \n",
      "1  ELTOMG0149  ELTOMG004706  351629551781488  8901240177129856685   \n",
      "2  ELTOMG0149  ELTOMG004706  351629551808620  8901240177126175113   \n",
      "3  ELTOMG0149  ELTOMG004706  351629551823322  8901240177129869829   \n",
      "4  ELTOMG0149  ELTOMG004706  351629551845143  8901240177129859960   \n",
      "\n",
      "               model  color           Location CLEC Inventory Location FedEx  \\\n",
      "0  Elite OctaMax 3GB  Black  Phoenix Worcester                                 \n",
      "1  Elite OctaMax 3GB  Black  Phoenix Worcester                                 \n",
      "2  Elite OctaMax 3GB  Black  Phoenix Worcester                                 \n",
      "3  Elite OctaMax 3GB  Black  Phoenix Worcester                                 \n",
      "4  Elite OctaMax 3GB  Black  Phoenix Worcester                                 \n",
      "\n",
      "  First Location  \n",
      "0                 \n",
      "1                 \n",
      "2                 \n",
      "3                 \n",
      "4                 \n"
     ]
    }
   ],
   "source": [
    "\n",
    "for col in cols:\n",
    "    if col not in main_cols:\n",
    "        df[col] = \"\"\n",
    "\n",
    "print(df.head())"
   ]
  }
 ],
 "metadata": {
  "kernelspec": {
   "display_name": "Python 3",
   "language": "python",
   "name": "python3"
  },
  "language_info": {
   "codemirror_mode": {
    "name": "ipython",
    "version": 3
   },
   "file_extension": ".py",
   "mimetype": "text/x-python",
   "name": "python",
   "nbconvert_exporter": "python",
   "pygments_lexer": "ipython3",
   "version": "3.10.9"
  },
  "orig_nbformat": 4
 },
 "nbformat": 4,
 "nbformat_minor": 2
}
